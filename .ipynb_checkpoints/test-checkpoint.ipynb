{
 "cells": [
  {
   "cell_type": "code",
   "execution_count": 1,
   "id": "473905ac-6698-4c30-97f6-785847bea7ef",
   "metadata": {},
   "outputs": [],
   "source": [
    "str = \"Python test env\""
   ]
  },
  {
   "cell_type": "code",
   "execution_count": 2,
   "id": "b08f8570-3986-4427-9ef6-329072dbabde",
   "metadata": {},
   "outputs": [
    {
     "data": {
      "text/plain": [
       "'Python test env'"
      ]
     },
     "execution_count": 2,
     "metadata": {},
     "output_type": "execute_result"
    }
   ],
   "source": [
    "str"
   ]
  },
  {
   "cell_type": "code",
   "execution_count": null,
   "id": "17891a42-d070-4ece-b5cd-bf98e3661eee",
   "metadata": {},
   "outputs": [],
   "source": []
  }
 ],
 "metadata": {
  "kernelspec": {
   "display_name": "Python 3",
   "language": "python",
   "name": "python3"
  },
  "language_info": {
   "codemirror_mode": {
    "name": "ipython",
    "version": 3
   },
   "file_extension": ".py",
   "mimetype": "text/x-python",
   "name": "python",
   "nbconvert_exporter": "python",
   "pygments_lexer": "ipython3",
   "version": "3.8.8"
  }
 },
 "nbformat": 4,
 "nbformat_minor": 5
}
